{
 "cells": [
  {
   "cell_type": "markdown",
   "metadata": {},
   "source": [
    "# Telegram Bot #"
   ]
  },
  {
   "cell_type": "code",
   "execution_count": null,
   "metadata": {},
   "outputs": [],
   "source": [
    "import telebot\n",
    "import time\n",
    "import requests\n",
    "\n",
    "# How to send a message directly without recieving a responce.\n",
    "\n",
    "Hermes_Bot_Token = \"1130092540:AAH6n6yetoPrgkF4X49adEXFs4x0dQ5TSFg\"\n",
    "chat_id = \"913581481\"\n",
    "URL = \"https://api.telegram.org/bot{}/\".format(Hermes_Bot_Token)\n",
    "bot = telebot.TeleBot(token = Hermes_Bot_Token)\n",
    "\n",
    "def get_url(url):\n",
    "    response = requests.get(url)\n",
    "    content = response.content.decode(\"utf8\")\n",
    "    return content\n",
    "\n",
    "def send_message(text, chat_id):\n",
    "    url = URL + \"sendMessage?text={}&chat_id={}\".format(text, chat_id)\n",
    "    get_url(url)\n",
    "\n",
    "while True:\n",
    "    try:\n",
    "        bot.polling(none_stop=True)\n",
    "        # ConnectionError and ReadTimeout because of possible timeout of the requests library\n",
    "        # maybe there are others, therefore Exception\n",
    "    except Exception:\n",
    "        time.sleep(5)"
   ]
  },
  {
   "cell_type": "code",
   "execution_count": null,
   "metadata": {},
   "outputs": [],
   "source": [
    "# Telegram Commands\n",
    "\n",
    "@bot.message_handler(commands = ['start'])\n",
    "def send_welcome(message):\n",
    "    bot.reply_to(message, 'live!')\n",
    "\n",
    "@bot.message_handler(commands = ['SOS'])\n",
    "def send_welcome(message):\n",
    "    bot.reply_to(message, 'SOS')\n",
    "\n",
    "while True:\n",
    "    try:\n",
    "        bot.polling(none_stop=True)\n",
    "        # ConnectionError and ReadTimeout because of possible timeout of the requests library\n",
    "        # maybe there are others, therefore Exception\n",
    "    except Exception:\n",
    "        time.sleep(5)"
   ]
  },
  {
   "cell_type": "code",
   "execution_count": null,
   "metadata": {},
   "outputs": [],
   "source": [
    "import telebot\n",
    "import constants\n",
    "\n",
    "# A way to listen for varius dirrent input.\n",
    "\n",
    "bot = telebot.TeleBot(constants.token)\n",
    "\n",
    "@bot.message_handler(content_types = ['text'])\n",
    "def handle_text(message):\n",
    "    if message.text == \"a\":\n",
    "        \n",
    "        bot.send_message(message,chat.id,\"got a\")\n",
    "    \n",
    "    elif message.text == \"b\":\n",
    "        bot.send_message(message,chat.id,\"got b\")\n",
    "        \n",
    "    elif message.text == \"c\":\n",
    "        bot.send_message(message,chat.id,\"got c\")\n",
    "        \n",
    "    else:\n",
    "        bot.send_message(message,chat.id,\"error!\")\n",
    "        \n",
    "while True:\n",
    "    try:\n",
    "        bot.polling(none_stop=True)\n",
    "        # ConnectionError and ReadTimeout because of possible timeout of the requests library\n",
    "        # maybe there are others, therefore Exception\n",
    "    except Exception:\n",
    "        time.sleep(5)"
   ]
  },
  {
   "cell_type": "markdown",
   "metadata": {},
   "source": [
    "\n",
    "\n",
    "## Some other code I found for Telegram Bot ##"
   ]
  },
  {
   "cell_type": "code",
   "execution_count": null,
   "metadata": {},
   "outputs": [],
   "source": [
    "import json\n",
    "import requests\n",
    "\n",
    "TOKEN = \"<your-bot-token>\"\n",
    "URL = \"https://api.telegram.org/bot{}/\".format(TOKEN)\n",
    "\n",
    "\n",
    "def get_url(url):\n",
    "    response = requests.get(url)\n",
    "    content = response.content.decode(\"utf8\")\n",
    "    return content\n",
    "\n",
    "\n",
    "def get_json_from_url(url):\n",
    "    content = get_url(url)\n",
    "    js = json.loads(content)\n",
    "    return js\n",
    "\n",
    "\n",
    "def get_updates():\n",
    "    url = URL + \"getUpdates\"\n",
    "    js = get_json_from_url(url)\n",
    "    return js\n",
    "\n",
    "\n",
    "def get_last_chat_id_and_text(updates):\n",
    "    num_updates = len(updates[\"result\"])\n",
    "    last_update = num_updates - 1\n",
    "    text = updates[\"result\"][last_update][\"message\"][\"text\"]\n",
    "    chat_id = updates[\"result\"][last_update][\"message\"][\"chat\"][\"id\"]\n",
    "    return (text, chat_id)\n",
    "\n",
    "\n",
    "def send_message(text, chat_id):\n",
    "    url = URL + \"sendMessage?text={}&chat_id={}\".format(text, chat_id)\n",
    "    get_url(url)\n",
    "\n",
    "\n",
    "text, chat = get_last_chat_id_and_text(get_updates())\n",
    "send_message(text, chat)"
   ]
  }
 ],
 "metadata": {
  "kernelspec": {
   "display_name": "Python 3",
   "language": "python",
   "name": "python3"
  },
  "language_info": {
   "codemirror_mode": {
    "name": "ipython",
    "version": 3
   },
   "file_extension": ".py",
   "mimetype": "text/x-python",
   "name": "python",
   "nbconvert_exporter": "python",
   "pygments_lexer": "ipython3",
   "version": "3.7.4"
  }
 },
 "nbformat": 4,
 "nbformat_minor": 2
}
